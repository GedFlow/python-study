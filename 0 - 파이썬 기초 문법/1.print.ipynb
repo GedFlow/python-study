{
 "cells": [
  {
   "cell_type": "code",
   "execution_count": 3,
   "metadata": {},
   "outputs": [
    {
     "name": "stdout",
     "output_type": "stream",
     "text": [
      "hello '안녕하세요'\n"
     ]
    }
   ],
   "source": [
    "print(\"hello '안녕하세요'\")"
   ]
  },
  {
   "cell_type": "code",
   "execution_count": 5,
   "metadata": {},
   "outputs": [
    {
     "name": "stdout",
     "output_type": "stream",
     "text": [
      "hello      world!\n"
     ]
    }
   ],
   "source": [
    "print('hello\\\n",
    "      world!')"
   ]
  },
  {
   "cell_type": "code",
   "execution_count": 6,
   "metadata": {},
   "outputs": [
    {
     "name": "stdout",
     "output_type": "stream",
     "text": [
      "a:123, b:7, a+b:130\n"
     ]
    }
   ],
   "source": [
    "a = 123\n",
    "b = 7\n",
    "print('a:{}, b:{}, a+b:{}'.format(a,b,a+b))"
   ]
  },
  {
   "cell_type": "code",
   "execution_count": 7,
   "metadata": {},
   "outputs": [
    {
     "name": "stdout",
     "output_type": "stream",
     "text": [
      "a:123, b:7, a+b:130\n"
     ]
    }
   ],
   "source": [
    "a = 123\n",
    "b = 7\n",
    "print(f'a:{a}, b:{b}, a+b:{a+b}')"
   ]
  }
 ],
 "metadata": {
  "kernelspec": {
   "display_name": "Python 3.9.12 ('base')",
   "language": "python",
   "name": "python3"
  },
  "language_info": {
   "codemirror_mode": {
    "name": "ipython",
    "version": 3
   },
   "file_extension": ".py",
   "mimetype": "text/x-python",
   "name": "python",
   "nbconvert_exporter": "python",
   "pygments_lexer": "ipython3",
   "version": "3.9.12"
  },
  "orig_nbformat": 4,
  "vscode": {
   "interpreter": {
    "hash": "f44be695a337a69b759a7530f71b0178def33245b62f03fe07682bbc090b2fc3"
   }
  }
 },
 "nbformat": 4,
 "nbformat_minor": 2
}
